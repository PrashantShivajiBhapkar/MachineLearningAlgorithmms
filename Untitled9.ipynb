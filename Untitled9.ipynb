{
 "cells": [
  {
   "cell_type": "markdown",
   "metadata": {},
   "source": [
    "# Predicting Salaries based on years of experience using Simple Linear Regression"
   ]
  },
  {
   "cell_type": "markdown",
   "metadata": {},
   "source": [
    "# What is simple linear regression? \n",
    "Simple linear regression is a statistical method that helps us in summarizing and studying the relationship between two continuous or interval variables. One of the variable, oftened termes as 'x', is the one that is independent. It is also called as the explanatory or predictor variabe. The other variable, often termed as 'y', is the one which is dependent on 'x'. For this reason, it is called as a dependent, outcome or response variable. We will simply refer 'x' as the independent variable and 'y' as the dependent variable. Finally, it's called a \"linear\" regression as it tries to define a linear relationship between x and y. We will go through the following business problem and try to solve it using simple linear regression."
   ]
  },
  {
   "cell_type": "markdown",
   "metadata": {},
   "source": [
    "# Business Problem:\n",
    "We have a information of 30 employees. The information includes 'salary' and 'years of experience' of the employees. We want to study the relationship between these two variables and come up with a model that best defines this relationship. Further, this model can be used to predict salary of employee when their 'years of experience' is given. So, lets gets started!!"
   ]
  },
  {
   "cell_type": "code",
   "execution_count": 1,
   "metadata": {
    "collapsed": true
   },
   "outputs": [],
   "source": [
    "# Importing required libraries\n",
    "import pandas as pd\n",
    "import matplotlib.pyplot as plt\n",
    "import numpy as np"
   ]
  },
  {
   "cell_type": "code",
   "execution_count": 2,
   "metadata": {
    "collapsed": false
   },
   "outputs": [
    {
     "data": {
      "text/html": [
       "<div>\n",
       "<table border=\"1\" class=\"dataframe\">\n",
       "  <thead>\n",
       "    <tr style=\"text-align: right;\">\n",
       "      <th></th>\n",
       "      <th>YearsExperience</th>\n",
       "      <th>Salary</th>\n",
       "    </tr>\n",
       "  </thead>\n",
       "  <tbody>\n",
       "    <tr>\n",
       "      <th>0</th>\n",
       "      <td>1.1</td>\n",
       "      <td>39343.0</td>\n",
       "    </tr>\n",
       "    <tr>\n",
       "      <th>1</th>\n",
       "      <td>1.3</td>\n",
       "      <td>46205.0</td>\n",
       "    </tr>\n",
       "    <tr>\n",
       "      <th>2</th>\n",
       "      <td>1.5</td>\n",
       "      <td>37731.0</td>\n",
       "    </tr>\n",
       "    <tr>\n",
       "      <th>3</th>\n",
       "      <td>2.0</td>\n",
       "      <td>43525.0</td>\n",
       "    </tr>\n",
       "    <tr>\n",
       "      <th>4</th>\n",
       "      <td>2.2</td>\n",
       "      <td>39891.0</td>\n",
       "    </tr>\n",
       "  </tbody>\n",
       "</table>\n",
       "</div>"
      ],
      "text/plain": [
       "   YearsExperience   Salary\n",
       "0              1.1  39343.0\n",
       "1              1.3  46205.0\n",
       "2              1.5  37731.0\n",
       "3              2.0  43525.0\n",
       "4              2.2  39891.0"
      ]
     },
     "execution_count": 2,
     "metadata": {},
     "output_type": "execute_result"
    }
   ],
   "source": [
    "# Importing the dataset\n",
    "data = pd.read_csv('C:/Projects/Datasets/SimpleLinearRegression_Salary_Data.csv')\n",
    "data.head()"
   ]
  },
  {
   "cell_type": "code",
   "execution_count": 3,
   "metadata": {
    "collapsed": false
   },
   "outputs": [
    {
     "data": {
      "text/plain": [
       "array([  39343.,   46205.,   37731.,   43525.,   39891.,   56642.,\n",
       "         60150.,   54445.,   64445.,   57189.,   63218.,   55794.,\n",
       "         56957.,   57081.,   61111.,   67938.,   66029.,   83088.,\n",
       "         81363.,   93940.,   91738.,   98273.,  101302.,  113812.,\n",
       "        109431.,  105582.,  116969.,  112635.,  122391.,  121872.])"
      ]
     },
     "execution_count": 3,
     "metadata": {},
     "output_type": "execute_result"
    }
   ],
   "source": [
    "# Creating tow different variables (x and y) out of the dataset\n",
    "x = data.iloc[:,0].values\n",
    "y = data.iloc[:,-1].values\n",
    "x\n",
    "y"
   ]
  },
  {
   "cell_type": "code",
   "execution_count": 4,
   "metadata": {
    "collapsed": false
   },
   "outputs": [
    {
     "name": "stdout",
     "output_type": "stream",
     "text": [
      "[  1.1   1.3   1.5   2.    2.2   2.9   3.    3.2   3.2   3.7   3.9   4.\n",
      "   4.    4.1   4.5   4.9   5.1   5.3   5.9   6.    6.8   7.1   7.9   8.2\n",
      "   8.7   9.    9.5   9.6  10.3  10.5]\n",
      "<class 'numpy.ndarray'>\n"
     ]
    }
   ],
   "source": [
    "# Lets see if we got that right\n",
    "print(x)\n",
    "print(type(x))"
   ]
  },
  {
   "cell_type": "markdown",
   "metadata": {},
   "source": [
    "We can see that this variable, x, has all the data points that refer to years of experience of the employees. This is the independent variable. This variable is a numpy array."
   ]
  },
  {
   "cell_type": "code",
   "execution_count": 5,
   "metadata": {
    "collapsed": false
   },
   "outputs": [
    {
     "name": "stdout",
     "output_type": "stream",
     "text": [
      "[  39343.   46205.   37731.   43525.   39891.   56642.   60150.   54445.\n",
      "   64445.   57189.   63218.   55794.   56957.   57081.   61111.   67938.\n",
      "   66029.   83088.   81363.   93940.   91738.   98273.  101302.  113812.\n",
      "  109431.  105582.  116969.  112635.  122391.  121872.]\n",
      "<class 'numpy.ndarray'>\n"
     ]
    }
   ],
   "source": [
    "print(y)\n",
    "print(type(y))"
   ]
  },
  {
   "cell_type": "markdown",
   "metadata": {},
   "source": [
    "We can see that this variable, y, has all the data points that refer to salaries of the employees . This is the dependent variable. This variable is a numpy array."
   ]
  },
  {
   "cell_type": "markdown",
   "metadata": {},
   "source": [
    "Our dataset is small and not that complex. It is a clean dataset, meaning that we don't have to pre-process our data."
   ]
  },
  {
   "cell_type": "markdown",
   "metadata": {},
   "source": [
    "## Splitting dataset into train and test data sets\n",
    "We generally split our data set into 2 parts. One is the training set which is used to analyze the relationship between the variables and build a model. The other one is the test set which is used to test our model and assess accuracy.\n",
    "\n",
    "Now, to split our dataset, we'll be making use of a function 'train_test_split'. This function is a part of the library sklearn.cross_validation. So let's import this function and then use it to split our dataset."
   ]
  },
  {
   "cell_type": "code",
   "execution_count": 9,
   "metadata": {
    "collapsed": false
   },
   "outputs": [
    {
     "data": {
      "text/plain": [
       "(array([  3.7,   4.5,   4. ,   9.6,   4.9,   6.8,   3.9,  10.5,   9. ,\n",
       "          5.9,   3.2,   5.1,   8.7,  10.3,   7.9,   1.5,   4. ,   2. ,\n",
       "          1.3,   8.2]),\n",
       " array([ 3.2,  1.1,  3. ,  2.9,  7.1,  5.3,  2.2,  9.5,  4.1,  6. ]),\n",
       " array([  57189.,   61111.,   56957.,  112635.,   67938.,   91738.,\n",
       "          63218.,  121872.,  105582.,   81363.,   54445.,   66029.,\n",
       "         109431.,  122391.,  101302.,   37731.,   55794.,   43525.,\n",
       "          46205.,  113812.]),\n",
       " array([  64445.,   39343.,   60150.,   56642.,   98273.,   83088.,\n",
       "          39891.,  116969.,   57081.,   93940.]))"
      ]
     },
     "execution_count": 9,
     "metadata": {},
     "output_type": "execute_result"
    }
   ],
   "source": [
    "# Importing the necessary library for train-test split\n",
    "from sklearn.cross_validation import train_test_split\n",
    "\n",
    "# Splitting into 2:1 ratio, meaning that the test set will have 1/3 of the data and train 2/3\n",
    "x_train, x_test, y_train, y_test = train_test_split(x, y, test_size= 1/3)\n",
    "x_train, x_test, y_train, y_test"
   ]
  },
  {
   "cell_type": "markdown",
   "metadata": {},
   "source": [
    "Our train and test datasets are ready now. Now, lets proceed with buiding the model based on the training datased"
   ]
  },
  {
   "cell_type": "markdown",
   "metadata": {},
   "source": [
    "## Building the Linear Regression Model\n",
    "But before that, an important note\n",
    "\"We will not be scaling(standardizing/normalizing) our data as the linear regression class, that we'll be using, does that implicitly\"\n",
    "\n",
    "There's a class within the library sklearn.linear_model by the name \"LinearRegression\". This is the class that we'll be using to build our class. Let's now import the same."
   ]
  },
  {
   "cell_type": "code",
   "execution_count": 7,
   "metadata": {
    "collapsed": true
   },
   "outputs": [],
   "source": [
    "# Importing LinearRegression class\n",
    "from sklearn.linear_model import LinearRegression"
   ]
  },
  {
   "cell_type": "markdown",
   "metadata": {},
   "source": [
    "Let's now instantiate our \"regressor\" object that we'll use to study the relationship between x and y(to be specific, x_train and y_train)"
   ]
  },
  {
   "cell_type": "code",
   "execution_count": 8,
   "metadata": {
    "collapsed": false
   },
   "outputs": [],
   "source": [
    "# Creating the regressor\n",
    "regressor = LinearRegression()"
   ]
  },
  {
   "cell_type": "code",
   "execution_count": null,
   "metadata": {
    "collapsed": false
   },
   "outputs": [],
   "source": []
  },
  {
   "cell_type": "code",
   "execution_count": null,
   "metadata": {
    "collapsed": true
   },
   "outputs": [],
   "source": []
  },
  {
   "cell_type": "code",
   "execution_count": null,
   "metadata": {
    "collapsed": true
   },
   "outputs": [],
   "source": []
  },
  {
   "cell_type": "code",
   "execution_count": null,
   "metadata": {
    "collapsed": true
   },
   "outputs": [],
   "source": []
  }
 ],
 "metadata": {
  "kernelspec": {
   "display_name": "Python 3",
   "language": "python",
   "name": "python3"
  },
  "language_info": {
   "codemirror_mode": {
    "name": "ipython",
    "version": 3
   },
   "file_extension": ".py",
   "mimetype": "text/x-python",
   "name": "python",
   "nbconvert_exporter": "python",
   "pygments_lexer": "ipython3",
   "version": "3.6.0"
  }
 },
 "nbformat": 4,
 "nbformat_minor": 2
}
